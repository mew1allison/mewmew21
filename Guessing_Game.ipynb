{
 "cells": [
  {
   "cell_type": "code",
   "execution_count": null,
   "id": "347bc559-16e1-446f-8b04-960c63efa6ea",
   "metadata": {},
   "outputs": [],
   "source": [
    "import random\n",
    "print (\"Do you prefer guessing or use insight? Or is it the same thing?\"), print (\"Choose your number range!\")\n",
    "\n",
    "#the user will pick lower value\n",
    "\n",
    "while True:\n",
    "    try: \n",
    "        lower_value = int(input(\"Enter the lowest number in your range, TwT: \"))\n",
    "    except ValueError:\n",
    "           print (\"Seriously? You know that is not a whole number :(\" )\n",
    "           continue\n",
    "    else:\n",
    "       break\n",
    "#the user will pick upper value\n",
    "\n",
    "while True:\n",
    "    try: \n",
    "        upper_value = int(input(\"How about you give me the highest value? \"))\n",
    "    except ValueError:\n",
    "           print (\"Ugh...I thought you were more mature than this -.-\")\n",
    "           continue\n",
    "    else: \n",
    "       break\n",
    "#after inputs, the program generates a random number within supplied range.\n",
    "\n",
    "secret_number = random.randint(lower_value, upper_value)\n",
    "print (\"Let's pick your seeecret special number :PP\")\n",
    " #main game loop!! \n",
    "while True:\n",
    "    guess = int(input(\"Go on, give your best shot :> : \"))\n",
    "\n",
    "    if guess < secret_number:\n",
    "        print(\"Too less!\")\n",
    "    elif guess > secret_number:\n",
    "        print(\"Too high!\")\n",
    "    else:\n",
    "        print(\"You win.\")\n",
    "        break"
   ]
  },
  {
   "cell_type": "code",
   "execution_count": null,
   "id": "f196b9fd-2337-4065-9dfc-f69f7887ce96",
   "metadata": {},
   "outputs": [],
   "source": []
  }
 ],
 "metadata": {
  "kernelspec": {
   "display_name": "Python 3 (ipykernel)",
   "language": "python",
   "name": "python3"
  },
  "language_info": {
   "codemirror_mode": {
    "name": "ipython",
    "version": 3
   },
   "file_extension": ".py",
   "mimetype": "text/x-python",
   "name": "python",
   "nbconvert_exporter": "python",
   "pygments_lexer": "ipython3",
   "version": "3.13.5"
  }
 },
 "nbformat": 4,
 "nbformat_minor": 5
}
